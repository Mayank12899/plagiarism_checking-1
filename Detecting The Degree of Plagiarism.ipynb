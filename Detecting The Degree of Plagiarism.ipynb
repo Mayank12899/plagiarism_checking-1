{
 "cells": [
  {
   "cell_type": "code",
   "execution_count": null,
   "metadata": {},
   "outputs": [],
   "source": [
    "from nltk.util import ngrams"
   ]
  },
  {
   "cell_type": "markdown",
   "metadata": {},
   "source": [
    "# Getting text from the uploaded files "
   ]
  },
  {
   "cell_type": "code",
   "execution_count": null,
   "metadata": {},
   "outputs": [],
   "source": [
    "f1=open(\"Original File.txt\", \"r\")\n",
    "o =f1.read()\n",
    "ori = o.lower()\n",
    "\n",
    "f2=open(\"Suspicious File.txt\", \"r\")\n",
    "s =f2.read()\n",
    "susp = s.lower()"
   ]
  },
  {
   "cell_type": "markdown",
   "metadata": {},
   "source": [
    "# Converting the text to Bigrams"
   ]
  },
  {
   "cell_type": "code",
   "execution_count": null,
   "metadata": {},
   "outputs": [],
   "source": [
    "n_bi = 2\n",
    "\n",
    "nb1 = ngrams(ori.split(), n_bi)\n",
    "nb2 = ngrams(susp.split(), n_bi)\n",
    "bi1 = [] \n",
    "bi2 = []\n",
    "for grams1 in nb1 :\n",
    "    bi1.append(grams1)\n",
    "    \n",
    "for grams2 in nb2 :\n",
    "    bi2.append(grams2)    \n",
    "    \n",
    "b_count = 0\n",
    "l_b1 = len(bi1)\n",
    "l_b2 = len(bi2)\n",
    "for i in range(l_b1):\n",
    "    for j in range(l_b2):\n",
    "        if bi1[i]==bi2[j]:\n",
    "            b_count+=1\n",
    "            break\n",
    "b_perc = (b_count) * 100 / (l_b2)"
   ]
  },
  {
   "cell_type": "markdown",
   "metadata": {},
   "source": [
    "# Converting the text to Trigrams"
   ]
  },
  {
   "cell_type": "code",
   "execution_count": null,
   "metadata": {},
   "outputs": [],
   "source": [
    "n_tri = 3\n",
    "\n",
    "nt1 = ngrams(ori.split(), n_tri)\n",
    "nt2 = ngrams(susp.split(), n_tri)\n",
    "tri1 = [] \n",
    "tri2 = []\n",
    "for grams1 in nt1 :\n",
    "    tri1.append(grams1)\n",
    "    \n",
    "for grams2 in nt2 :\n",
    "    tri2.append(grams2)    \n",
    "    \n",
    "t_count = 0\n",
    "l_t1 = len(tri1)\n",
    "l_t2 = len(tri2)\n",
    "for i in range(l_t1):\n",
    "    for j in range(l_t2):\n",
    "        if tri1[i]==tri2[j]:\n",
    "            t_count+=1\n",
    "            break\n",
    "t_perc = (t_count) * 100 / (l_t2)"
   ]
  },
  {
   "cell_type": "markdown",
   "metadata": {},
   "source": [
    "# Converting the text to Fourgrams"
   ]
  },
  {
   "cell_type": "code",
   "execution_count": null,
   "metadata": {},
   "outputs": [],
   "source": [
    "n_fo = 4\n",
    "\n",
    "nfo1 = ngrams(ori.split(), n_fo)\n",
    "nfo2 = ngrams(susp.split(), n_fo)\n",
    "fo1 = [] \n",
    "fo2 = []\n",
    "for grams1 in nfo1 :\n",
    "    fo1.append(grams1)\n",
    "    \n",
    "for grams2 in nfo2 :\n",
    "    fo2.append(grams2)    \n",
    "    \n",
    "fo_count = 0\n",
    "l_fo1 = len(fo1)\n",
    "l_fo2 = len(fo2)\n",
    "for i in range(l_fo1):\n",
    "    for j in range(l_fo2):\n",
    "        if fo1[i]==fo2[j]:\n",
    "            fo_count+=1\n",
    "            break\n",
    "fo_perc = (fo_count) * 100 / (l_fo2)"
   ]
  },
  {
   "cell_type": "markdown",
   "metadata": {},
   "source": [
    "# Converting the text to Fivegrams"
   ]
  },
  {
   "cell_type": "code",
   "execution_count": null,
   "metadata": {},
   "outputs": [],
   "source": [
    "n_fi = 5\n",
    "\n",
    "nfi1 = ngrams(ori.split(), n_fi)\n",
    "nfi2 = ngrams(susp.split(), n_fi)\n",
    "fi1 = [] \n",
    "fi2 = []\n",
    "for grams1 in nfi1 :\n",
    "    fi1.append(grams1)\n",
    "    \n",
    "for grams2 in nfi2 :\n",
    "    fi2.append(grams2)    \n",
    "\n",
    "fi_count = 0\n",
    "l_fi1 = len(fi1)\n",
    "l_fi2 = len(fi2)\n",
    "for i in range(l_fi1):\n",
    "    for j in range(l_fi2):\n",
    "        if fi1[i]==fi2[j]:\n",
    "            fi_count+=1\n",
    "            break\n",
    "fi_perc = (fi_count) * 100 / (l_fi2)"
   ]
  },
  {
   "cell_type": "markdown",
   "metadata": {},
   "source": [
    "# Passing the calculated values to the model"
   ]
  },
  {
   "cell_type": "code",
   "execution_count": null,
   "metadata": {},
   "outputs": [],
   "source": [
    "test = [[b_perc,t_perc,fo_perc,fi_perc]]\n",
    "r = nvclassifier.predict(test)\n",
    "\n",
    "def gen_result(S):\n",
    "        switch = { \n",
    "        0 : \"Non-Plagiarized\" , \n",
    "        1 : \"Lightly Plagiarized\" ,\n",
    "        2 : \"Heavily Plagiarized\" ,\n",
    "        3 : \"Near-Copy\"}  \n",
    "        return switch.get(S)  \n",
    "    \n",
    "result = gen_result(r[0])    \n",
    "print(result)"
   ]
  }
 ],
 "metadata": {
  "kernelspec": {
   "display_name": "Python 3",
   "language": "python",
   "name": "python3"
  },
  "language_info": {
   "codemirror_mode": {
    "name": "ipython",
    "version": 3
   },
   "file_extension": ".py",
   "mimetype": "text/x-python",
   "name": "python",
   "nbconvert_exporter": "python",
   "pygments_lexer": "ipython3",
   "version": "3.7.3"
  }
 },
 "nbformat": 4,
 "nbformat_minor": 2
}
